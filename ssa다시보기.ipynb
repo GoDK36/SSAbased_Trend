{
 "cells": [
  {
   "cell_type": "code",
   "execution_count": 1,
   "metadata": {},
   "outputs": [
    {
     "name": "stdout",
     "output_type": "stream",
     "text": [
      "            date       pol\n",
      "1     2015-04-16  POSITIVE\n",
      "2     2015-05-05  POSITIVE\n",
      "3     2015-06-07  POSITIVE\n",
      "4     2015-06-13  POSITIVE\n",
      "5     2015-06-14  POSITIVE\n",
      "...          ...       ...\n",
      "1989  2017-09-22  POSITIVE\n",
      "1990  2017-09-23  POSITIVE\n",
      "1991  2017-09-23  POSITIVE\n",
      "1992  2017-09-24  POSITIVE\n",
      "1993  2017-09-27  POSITIVE\n",
      "\n",
      "[1993 rows x 2 columns]\n",
      "DatetimeIndex([          '2015-04-16 00:00:00',\n",
      "               '2015-04-18 23:50:22.073578595',\n",
      "               '2015-04-21 23:40:44.147157190',\n",
      "               '2015-04-24 23:31:06.220735786',\n",
      "               '2015-04-27 23:21:28.294314381',\n",
      "               '2015-04-30 23:11:50.367892976',\n",
      "               '2015-05-03 23:02:12.441471572',\n",
      "               '2015-05-06 22:52:34.515050167',\n",
      "               '2015-05-09 22:42:56.588628762',\n",
      "               '2015-05-12 22:33:18.662207358',\n",
      "               ...\n",
      "               '2017-08-31 01:26:41.337792640',\n",
      "               '2017-09-03 01:17:03.411371232',\n",
      "               '2017-09-06 01:07:25.484949824',\n",
      "               '2017-09-09 00:57:47.558528432',\n",
      "               '2017-09-12 00:48:09.632107024',\n",
      "               '2017-09-15 00:38:31.705685616',\n",
      "               '2017-09-18 00:28:53.779264208',\n",
      "               '2017-09-21 00:19:15.852842800',\n",
      "               '2017-09-24 00:09:37.926421408',\n",
      "                         '2017-09-27 00:00:00'],\n",
      "              dtype='datetime64[ns]', length=300, freq=None)\n"
     ]
    }
   ],
   "source": [
    "import csv, os\n",
    "import pandas as pd\n",
    "import plotnine\n",
    "from plotnine import *\n",
    "import numpy as np\n",
    "import matplotlib.pyplot as plt\n",
    "import datetime as dt\n",
    "\n",
    "\n",
    "pol_df = pd.read_csv(r'G:\\Programming\\python\\NLP\\DecoSentA\\SSAbasedTrend\\1-SO-SSAbasedTrend-InputSample.t.csv', names=['date','pol'])[1:]\n",
    "print(pol_df)\n",
    "\n",
    "dt_list= list(pol_df['date'])\n",
    "\n",
    "dt_index = pd.date_range(start = dt_list[0], end = dt_list[-1], periods = 300)\n",
    "print(dt_index)"
   ]
  },
  {
   "cell_type": "code",
   "execution_count": 10,
   "metadata": {},
   "outputs": [
    {
     "name": "stdout",
     "output_type": "stream",
     "text": [
      "[['2015-04-16', 'POSITIVE'], ['2015-05-05', 'POSITIVE'], ['2015-06-07', 'POSITIVE'], ['2015-06-13', 'POSITIVE'], ['2015-06-14', 'POSITIVE'], ['2015-06-14', 'POSITIVE'], ['2015-06-19', 'POSITIVE'], ['2015-06-20', 'POSITIVE'], ['2015-06-24', 'POSITIVE'], ['2015-06-26', 'POSITIVE']]\n",
      "['POSITIVE', 'NEGATIVE']\n",
      "days:7\n",
      "[['2015-04-16', '2015-04-17', '2015-04-18', '2015-04-19', '2015-04-20', '2015-04-21', '2015-04-22', '2015-04-23'], ['2015-04-23', '2015-04-24', '2015-04-25', '2015-04-26', '2015-04-27', '2015-04-28', '2015-04-29', '2015-04-30'], ['2015-04-30', '2015-05-01', '2015-05-02', '2015-05-03', '2015-05-04', '2015-05-05', '2015-05-06', '2015-05-07'], ['2015-05-07', '2015-05-08', '2015-05-09', '2015-05-10', '2015-05-11', '2015-05-12', '2015-05-13', '2015-05-14'], ['2015-05-14', '2015-05-15', '2015-05-16', '2015-05-17', '2015-05-18', '2015-05-19', '2015-05-20', '2015-05-21'], ['2015-05-21', '2015-05-22', '2015-05-23', '2015-05-24', '2015-05-25', '2015-05-26', '2015-05-27', '2015-05-28'], ['2015-05-28', '2015-05-29', '2015-05-30', '2015-05-31', '2015-06-01', '2015-06-02', '2015-06-03', '2015-06-04'], ['2015-06-04', '2015-06-05', '2015-06-06', '2015-06-07', '2015-06-08', '2015-06-09', '2015-06-10', '2015-06-11'], ['2015-06-11', '2015-06-12', '2015-06-13', '2015-06-14', '2015-06-15', '2015-06-16', '2015-06-17', '2015-06-18'], ['2015-06-18', '2015-06-19', '2015-06-20', '2015-06-21', '2015-06-22', '2015-06-23', '2015-06-24', '2015-06-25']]\n"
     ]
    },
    {
     "ename": "NameError",
     "evalue": "name 'dtLlst' is not defined",
     "output_type": "error",
     "traceback": [
      "\u001b[1;31m---------------------------------------------------------------------------\u001b[0m",
      "\u001b[1;31mNameError\u001b[0m                                 Traceback (most recent call last)",
      "\u001b[1;32m<ipython-input-10-069baa10e430>\u001b[0m in \u001b[0;36m<module>\u001b[1;34m\u001b[0m\n\u001b[0;32m     40\u001b[0m \u001b[1;32mfor\u001b[0m \u001b[0mx\u001b[0m \u001b[1;32min\u001b[0m \u001b[0mdata\u001b[0m\u001b[1;33m:\u001b[0m\u001b[1;33m\u001b[0m\u001b[1;33m\u001b[0m\u001b[0m\n\u001b[0;32m     41\u001b[0m     \u001b[0mtemp\u001b[0m \u001b[1;33m=\u001b[0m \u001b[1;33m{\u001b[0m\u001b[1;33m}\u001b[0m\u001b[1;33m\u001b[0m\u001b[1;33m\u001b[0m\u001b[0m\n\u001b[1;32m---> 42\u001b[1;33m     \u001b[1;32mfor\u001b[0m \u001b[0my\u001b[0m \u001b[1;32min\u001b[0m \u001b[0mdtLlst\u001b[0m\u001b[1;33m:\u001b[0m\u001b[1;33m\u001b[0m\u001b[1;33m\u001b[0m\u001b[0m\n\u001b[0m\u001b[0;32m     43\u001b[0m         \u001b[1;32mif\u001b[0m \u001b[0my\u001b[0m \u001b[1;32min\u001b[0m \u001b[0mx\u001b[0m\u001b[1;33m:\u001b[0m\u001b[1;33m\u001b[0m\u001b[1;33m\u001b[0m\u001b[0m\n\u001b[0;32m     44\u001b[0m             \u001b[0mtemp\u001b[0m\u001b[1;33m[\u001b[0m\u001b[1;34m'date'\u001b[0m\u001b[1;33m]\u001b[0m \u001b[1;33m=\u001b[0m \u001b[0my\u001b[0m\u001b[1;33m\u001b[0m\u001b[1;33m\u001b[0m\u001b[0m\n",
      "\u001b[1;31mNameError\u001b[0m: name 'dtLlst' is not defined"
     ]
    }
   ],
   "source": [
    "data = list(csv.reader(open(r'G:\\Programming\\python\\NLP\\DecoSentA\\SSAbasedTrend\\1-SO-SSAbasedTrend-InputSample.t.csv', 'r', encoding='cp949')))[1:]\n",
    "pos_lst = pol_df.iloc[:,0:1].values.tolist()\n",
    "print(data[:10])\n",
    "\n",
    "pv = list(set(pol_df.pol.tolist())) \n",
    "print(pv[:20])\n",
    "\n",
    "\n",
    "n = int(input('days:'))\n",
    "startDate = data[0][0]\n",
    "endDate = data[-1][0] \n",
    "tempDt =pd.to_datetime(startDate,dayfirst=True)\n",
    "tempDt = dt.datetime.date(tempDt)\n",
    "endDt = pd.to_datetime(endDate,dayfirst=True)\n",
    "dtList = []\n",
    "while True:\n",
    "    tempStr = str(tempDt)\n",
    "    dtList.append(tempStr)\n",
    "    tempDt += dt.timedelta(days=n) ##이 숫자를 변형해서 주기 설정 가능 , 단, weeks(주)단위가 최대\n",
    "    if tempDt >= endDt:\n",
    "        tempStr = str(tempDt)\n",
    "        dtList.append(tempStr)\n",
    "        break\n",
    "\n",
    "        \n",
    "# print(dtList)\n",
    "\n",
    "rng_lst = []\n",
    "for x in range(1,len(dtList)):\n",
    "    dt_index = pd.date_range(start = dtList[x-1], end = dtList[x])\n",
    "    dt_list = dt_index.strftime(\"%Y-%m-%d\").tolist()\n",
    "    rng_lst.append(dt_list)\n",
    "        \n",
    "\n",
    "               \n",
    "print(rng_lst[:10])\n",
    "\n",
    "res = []\n",
    "\n",
    "for x in data:\n",
    "    temp = {}\n",
    "    for y in dtLlst:\n",
    "        if y in x:\n",
    "            temp['date'] = y\n",
    "        else:\n",
    "            continue \n",
    "    for z in pv:\n",
    "        if z in y:\n",
    "            temp[z] = x.count(z)\n",
    "        else:\n",
    "            continue\n",
    "    res.append(temp)\n",
    "    \n",
    "adj_pol_df = pd.DataFrame(res)\n",
    "adj_pol_df = adj_pol_df.groupby(['date'], as_index=False).sum()\n",
    "# adj_pol_df = pol_df[1:]\n",
    "# adj_pol_df = pol_df[['date','POSITIVE','NEGATIVE']]\n",
    "print(adj_pol_df)"
   ]
  },
  {
   "cell_type": "code",
   "execution_count": 52,
   "metadata": {},
   "outputs": [
    {
     "name": "stdout",
     "output_type": "stream",
     "text": [
      "1\n",
      "2\n",
      "3\n"
     ]
    }
   ],
   "source": [
    "ls = [1,2,3]\n",
    "len(ls)\n",
    "for k in range(0,len(ls)):\n",
    "    print(ls[k])"
   ]
  },
  {
   "cell_type": "code",
   "execution_count": null,
   "metadata": {},
   "outputs": [],
   "source": []
  }
 ],
 "metadata": {
  "kernelspec": {
   "display_name": "Python 3",
   "language": "python",
   "name": "python3"
  },
  "language_info": {
   "codemirror_mode": {
    "name": "ipython",
    "version": 3
   },
   "file_extension": ".py",
   "mimetype": "text/x-python",
   "name": "python",
   "nbconvert_exporter": "python",
   "pygments_lexer": "ipython3",
   "version": "3.7.4"
  }
 },
 "nbformat": 4,
 "nbformat_minor": 2
}

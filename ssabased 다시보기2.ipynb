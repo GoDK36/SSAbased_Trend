{
 "nbformat": 4,
 "nbformat_minor": 2,
 "metadata": {
  "language_info": {
   "name": "python",
   "codemirror_mode": {
    "name": "ipython",
    "version": 3
   },
   "version": "3.7.6-final"
  },
  "orig_nbformat": 2,
  "file_extension": ".py",
  "mimetype": "text/x-python",
  "name": "python",
  "npconvert_exporter": "python",
  "pygments_lexer": "ipython3",
  "version": 3,
  "kernelspec": {
   "name": "python37664bitbaseconda7ccc1197ea424c04aa8e970980241a68",
   "display_name": "Python 3.7.6 64-bit ('base': conda)"
  }
 },
 "cells": [
  {
   "cell_type": "code",
   "execution_count": 70,
   "metadata": {},
   "outputs": [
    {
     "name": "stdout",
     "output_type": "stream",
     "text": "date       pol\n1  2015-04-16  POSITIVE\n2  2015-05-05  POSITIVE\n3  2015-06-07  POSITIVE\n4  2015-06-13  POSITIVE\n5  2015-06-14  POSITIVE\n[['2015-04-16', 'POSITIVE'], ['2015-05-05', 'POSITIVE'], ['2015-06-07', 'POSITIVE'], ['2015-06-13', 'POSITIVE'], ['2015-06-14', 'POSITIVE'], ['2015-06-14', 'POSITIVE'], ['2015-06-19', 'POSITIVE'], ['2015-06-20', 'POSITIVE'], ['2015-06-24', 'POSITIVE'], ['2015-06-26', 'POSITIVE']]\n['NEGATIVE', 'POSITIVE']\n"
    }
   ],
   "source": [
    "import csv, os\n",
    "import pandas as pd\n",
    "import plotnine\n",
    "from plotnine import *\n",
    "import numpy as np\n",
    "import matplotlib.pyplot as plt\n",
    "import datetime as dt\n",
    "\n",
    "df = pd.read_csv(r'C:\\GOD\\programming\\NLP\\DecoSentA\\SSAbased_Trend\\1-SO-SSAbasedTrend-InputSample.t.csv', names=['date','pol'])[1:]\n",
    "print(df.head())\n",
    "\n",
    "data = list(csv.reader(open(r'C:\\GOD\\programming\\NLP\\DecoSentA\\SSAbased_Trend\\1-SO-SSAbasedTrend-InputSample.t.csv', 'r', encoding='cp949')))[1:]\n",
    "print(data[:10])\n",
    "\n",
    "\n",
    "pv = list(set(df.pol.tolist())) \n",
    "print(pv[:20])"
   ]
  },
  {
   "cell_type": "code",
   "execution_count": 9,
   "metadata": {},
   "outputs": [
    {
     "name": "stdout",
     "output_type": "stream",
     "text": "['2015-04-16', '2015-04-17', '2015-04-18', '2015-04-19', '2015-04-20', '2015-04-21', '2015-04-22', '2015-04-23', '2015-04-24', '2015-04-25']\n"
    }
   ],
   "source": [
    "##시간 만지기\n",
    "\n",
    "startDate = data[0][0]\n",
    "endDate = data[-1][0] \n",
    "tempDt =pd.to_datetime(startDate,dayfirst=True)\n",
    "tempDt = dt.datetime.date(tempDt)\n",
    "endDt = pd.to_datetime(endDate,dayfirst=True)\n",
    "dtList = []\n",
    "while True:\n",
    "    tempStr = str(tempDt)\n",
    "    dtList.append(tempStr)\n",
    "    tempDt += dt.timedelta(days=1) ##이 숫자를 변형해서 주기 설정 가능 , 단, weeks(주)단위가 최대\n",
    "    if tempDt >= endDt:\n",
    "        tempStr = str(tempDt)\n",
    "        dtList.append(tempStr)\n",
    "        break\n",
    "\n",
    "print(dtList[:10])\n",
    "\n"
   ]
  },
  {
   "cell_type": "code",
   "execution_count": 12,
   "metadata": {},
   "outputs": [
    {
     "name": "stdout",
     "output_type": "stream",
     "text": "date  NEGATIVE  POSITIVE\n0    2015-04-16         0         1\n1    2015-05-05         0         1\n2    2015-06-07         0         1\n3    2015-06-13         0         1\n4    2015-06-14         0         2\n..          ...       ...       ...\n591  2017-09-21         0         3\n592  2017-09-22         0         2\n593  2017-09-23         0         2\n594  2017-09-24         0         1\n595  2017-09-27         0         1\n\n[596 rows x 3 columns]\n"
    }
   ],
   "source": [
    "res = []\n",
    "\n",
    "for x in data:\n",
    "    temp = {}\n",
    "    for y in dtList:\n",
    "        if y in x:\n",
    "            temp['date'] = y\n",
    "        else:\n",
    "            continue \n",
    "    for z in pv:\n",
    "        if z in pv:\n",
    "            temp[z] = x.count(z)\n",
    "        else:\n",
    "            continue\n",
    "    res.append(temp)\n",
    "pol_df = pd.DataFrame(res)\n",
    "pol_df = pol_df.groupby(['date'], as_index=False).sum()\n",
    "print(pol_df)"
   ]
  },
  {
   "cell_type": "code",
   "execution_count": 13,
   "metadata": {},
   "outputs": [
    {
     "name": "stdout",
     "output_type": "stream",
     "text": "['2015-04-16', '2015-05-05', '2015-06-07', '2015-06-13', '2015-06-14', '2015-06-19', '2015-06-20', '2015-06-24', '2015-06-26', '2015-06-27']\n"
    }
   ],
   "source": [
    "date = list(pol_df.date)\n",
    "print(date[:10])"
   ]
  },
  {
   "cell_type": "code",
   "execution_count": 77,
   "metadata": {},
   "outputs": [
    {
     "name": "stdout",
     "output_type": "stream",
     "text": "['date', 'date', 'date', 'date', 'date', 'date', 'date', 'NEGATIVE', 'POSITIVE']\n['2015-04-16', '2015-05-05', '2015-06-07', '2015-06-13', '2015-06-14', '2015-06-19', '2015-06-20', '2015-06-24', '2015-06-26', '2015-06-27']\nDatetimeIndex(['2015-04-16', '2015-04-17', '2015-04-18', '2015-04-19',\n               '2015-04-20', '2015-04-21', '2015-04-22', '2015-04-23',\n               '2015-04-24', '2015-04-25', '2015-04-26', '2015-04-27',\n               '2015-04-28', '2015-04-29', '2015-04-30', '2015-05-01',\n               '2015-05-02', '2015-05-03', '2015-05-04', '2015-05-05',\n               '2015-05-06', '2015-05-07', '2015-05-08', '2015-05-09',\n               '2015-05-10', '2015-05-11', '2015-05-12', '2015-05-13',\n               '2015-05-14', '2015-05-15'],\n              dtype='datetime64[ns]', freq='D')\n[['2015-04-16', 0, 1], ['2015-05-05', 0, 1]]\n2015-05-05\n            0  1  2\n0  2015-04-16  0  1\n1  2015-05-05  0  1\n"
    }
   ],
   "source": [
    "pol_df.head()\n",
    "\n",
    "pv.insert(0, 'date')\n",
    "print(pv)\n",
    "pol_dt = list(pol_df.date)\n",
    "print(pol_dt[:10])\n",
    "dti = pd.date_range(pol_dt[0], periods=30, freq='D')\n",
    "print(dti)\n",
    "df_lst = []\n",
    "for x in pol_dt:\n",
    "    if x in dti:\n",
    "        i = pol_dt.index(x)\n",
    "        lst = list(pol_df.iloc[i])\n",
    "        df_lst.append(lst)\n",
    "print(df_lst)\n",
    "ranged_df = pd.DataFrame(df_lst)\n",
    "last = df_lst[-1][0]\n",
    "print(last)\n",
    "\n",
    "\n",
    "\n",
    "print(ranged_df)\n",
    "\n",
    "        "
   ]
  },
  {
   "cell_type": "code",
   "execution_count": null,
   "metadata": {},
   "outputs": [],
   "source": []
  }
 ]
}
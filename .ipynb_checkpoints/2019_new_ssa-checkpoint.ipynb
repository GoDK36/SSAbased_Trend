{
 "cells": [
  {
   "cell_type": "code",
   "execution_count": 122,
   "metadata": {},
   "outputs": [
    {
     "name": "stdout",
     "output_type": "stream",
     "text": [
      "            date       pol\n",
      "1     2015-04-16  POSITIVE\n",
      "2     2015-05-05  POSITIVE\n",
      "3     2015-06-07  POSITIVE\n",
      "4     2015-06-13  POSITIVE\n",
      "5     2015-06-14  POSITIVE\n",
      "...          ...       ...\n",
      "1989  2017-09-22  POSITIVE\n",
      "1990  2017-09-23  POSITIVE\n",
      "1991  2017-09-23  POSITIVE\n",
      "1992  2017-09-24  POSITIVE\n",
      "1993  2017-09-27  POSITIVE\n",
      "\n",
      "[1993 rows x 2 columns]\n",
      "[['2015-04-16', 'POSITIVE'], ['2015-05-05', 'POSITIVE'], ['2015-06-07', 'POSITIVE'], ['2015-06-13', 'POSITIVE'], ['2015-06-14', 'POSITIVE'], ['2015-06-14', 'POSITIVE'], ['2015-06-19', 'POSITIVE'], ['2015-06-20', 'POSITIVE'], ['2015-06-24', 'POSITIVE'], ['2015-06-26', 'POSITIVE']]\n",
      "['POSITIVE', 'NEGATIVE']\n",
      "['2015-04-16', '2015-05-05', '2015-06-07', '2015-06-13', '2015-06-14', '2015-06-14', '2015-06-19', '2015-06-20', '2015-06-24', '2015-06-26']\n"
     ]
    }
   ],
   "source": [
    "from __future__ import unicode_literals, print_function\n",
    "import csv, os\n",
    "import pandas as pd\n",
    "import numpy as np\n",
    "import matplotlib\n",
    "import matplotlib.pyplot as plt\n",
    "import datetime as dt\n",
    "%matplotlib inline\n",
    "\n",
    "pol_data = pd.read_csv(r'E:\\Programming\\python\\창회선배스터디\\SSAbasedTrend\\1-SO-SSAbasedTrend-InputSample.t.csv', names=['date','pol'])[1:]\n",
    "\n",
    "# pol_data['pol'] = np.where(pol_data['pol'] == 'POSITIVE','P','N')\n",
    "\n",
    "date = pol_data.date.tolist()\n",
    "data = pol_data.values.tolist()\n",
    "pv = list(set(pol_data.pol.tolist()))\n",
    "\n",
    "print(pol_data)\n",
    "print(data[:10])\n",
    "print(pv)\n",
    "print(date[:10])"
   ]
  },
  {
   "cell_type": "code",
   "execution_count": 22,
   "metadata": {},
   "outputs": [
    {
     "name": "stdout",
     "output_type": "stream",
     "text": [
      "['2019-12-14', '2019-12-15', '2019-12-16', '2019-12-17', '2019-12-18', '2019-12-19', '2019-12-20', '2019-12-21', '2019-12-22', '2019-12-23', '2019-12-24', '2019-12-25', '2019-12-26', '2019-12-27', '2019-12-28', '2019-12-29', '2019-12-30']\n"
     ]
    }
   ],
   "source": [
    "###날짜 하루씩 늘리기\n",
    "\n",
    "\n",
    "startDate = \"20191214\"\n",
    "endDate = \"20191230\"\n",
    "tempDt = dt.date (year=int (startDate[0:4]), month=int (startDate[4:6]), day=int (startDate[6:8]))\n",
    "endDt = dt.date (year=int (endDate[0:4]), month=int (endDate[4:6]), day=int (endDate[6:8]))\n",
    "dtList = []\n",
    "while True:\n",
    "    tempStr = str(tempDt)\n",
    "    dtList.append(tempStr)\n",
    "    tempDt += dt.timedelta(days=1)\n",
    "    if tempDt == endDt:\n",
    "        tempStr = str(tempDt)\n",
    "        dtList.append(tempStr)\n",
    "        break\n",
    "        \n",
    "print(dtList)"
   ]
  },
  {
   "cell_type": "code",
   "execution_count": 170,
   "metadata": {},
   "outputs": [
    {
     "name": "stdout",
     "output_type": "stream",
     "text": [
      "           date  POSITIVE  NEGATIVE\n",
      "581  2017-09-11         7         0\n",
      "582  2017-09-12         8         0\n",
      "583  2017-09-13         6         0\n",
      "584  2017-09-14         7         0\n",
      "585  2017-09-15         7         0\n",
      "586  2017-09-16         4         0\n",
      "587  2017-09-17         3         0\n",
      "588  2017-09-18         5         0\n",
      "589  2017-09-19         3         0\n",
      "590  2017-09-20         2         1\n",
      "591  2017-09-21         3         0\n",
      "592  2017-09-22         2         0\n",
      "593  2017-09-23         2         0\n",
      "594  2017-09-24         1         0\n",
      "595  2017-09-27         1         0\n"
     ]
    },
    {
     "data": {
      "image/png": "[encoded data removed]",
      "text/plain": [
       "<Figure size 432x288 with 1 Axes>"
      ]
     },
     "metadata": {
      "needs_background": "light"
     },
     "output_type": "display_data"
    }
   ],
   "source": [
    "from __future__ import unicode_literals, print_function\n",
    "import csv, os, re\n",
    "import pandas as pd\n",
    "import plotnine\n",
    "from plotnine import *\n",
    "import numpy as np\n",
    "import matplotlib\n",
    "import matplotlib.pyplot as plt\n",
    "import datetime as dt\n",
    "%matplotlib inline\n",
    "\n",
    "data = list(csv.reader(open(r'E:\\Programming\\python\\창회선배스터디\\SSAbasedTrend\\1-SO-SSAbasedTrend-InputSample.t.csv', 'r', encoding='cp949')))[1:]\n",
    "\n",
    "\n",
    "pol_data = pd.read_csv(r'E:\\Programming\\python\\창회선배스터디\\SSAbasedTrend\\1-SO-SSAbasedTrend-InputSample.t.csv', names=['date','pol'])[1:]\n",
    "\n",
    "# pol_data['pol'] = np.where(pol_data['pol'] == 'POSITIVE','P','N')\n",
    "\n",
    "date = pol_data.date.tolist() #날짜 리스트화\n",
    "data = pol_data.values.tolist()\n",
    "pv = list(set(pol_data.pol.tolist())) #논항들 구하기\n",
    "\n",
    "###날짜 기간 설정\n",
    "startDate = data[0][0]\n",
    "endDate = data[-1][0] \n",
    "tempDt =pd.to_datetime(startDate,dayfirst=True)\n",
    "tempDt = dt.datetime.date(tempDt)\n",
    "endDt = pd.to_datetime(endDate,dayfirst=True)\n",
    "dtList = []\n",
    "while True:\n",
    "    tempStr = str(tempDt)\n",
    "    dtList.append(tempStr)\n",
    "    tempDt += dt.timedelta(days=1)\n",
    "    if tempDt >= endDt:\n",
    "        tempStr = str(tempDt)\n",
    "        dtList.append(tempStr)\n",
    "        break\n",
    "        \n",
    "# print(date)\n",
    "\n",
    "\n",
    "##값들별로 리스트화 하기\n",
    "res = []\n",
    "\n",
    "for x in data:\n",
    "    temp = {}\n",
    "    for y in date:\n",
    "        if y in x:\n",
    "            temp['date'] = y\n",
    "        else:\n",
    "            continue \n",
    "    for z in pv:\n",
    "        if z in pv:\n",
    "            temp[z] = x.count(z)\n",
    "        else:\n",
    "            continue\n",
    "    res.append(temp)\n",
    "\n",
    "# print(res) \n",
    "#데이터프레임화 한 후 sumup해주기\n",
    "\n",
    "temp_df = pd.DataFrame(res)\n",
    "temp_df = temp_df.fillna(0)\n",
    "temp_df = temp_df.groupby(['date'], as_index=False).sum() ##기준이되는 열로 병합헤ㅐ주기\n",
    "temp_df = temp_df[1:]\n",
    "temp_df.mean()\n",
    "\n",
    "df_dt = temp_df.set_index('date')\n",
    "print(temp_df[580:595])\n",
    "\n",
    "\n",
    "\n",
    "\n",
    "plt.figure()\n",
    "\n",
    "line = plt.plot(df_dt,marker='o',label=['pos','neg'])\n",
    "line2 = plt.plot(df_dt.mean())\n",
    "plt.show()"
   ]
  },
  {
   "cell_type": "code",
   "execution_count": 139,
   "metadata": {},
   "outputs": [
    {
     "name": "stdout",
     "output_type": "stream",
     "text": [
      "['2015-04-16', '2015-05-07', '2015-05-28', '2015-06-18', '2015-07-09', '2015-07-30', '2015-08-20', '2015-09-10', '2015-10-01', '2015-10-22', '2015-11-12', '2015-12-03', '2015-12-24', '2016-01-14', '2016-02-04', '2016-02-25', '2016-03-17', '2016-04-07', '2016-04-28', '2016-05-19', '2016-06-09', '2016-06-30', '2016-07-21', '2016-08-11', '2016-09-01', '2016-09-22', '2016-10-13', '2016-11-03', '2016-11-24', '2016-12-15', '2017-01-05', '2017-01-26', '2017-02-16', '2017-03-09', '2017-03-30', '2017-04-20', '2017-05-11', '2017-06-01', '2017-06-22', '2017-07-13', '2017-08-03', '2017-08-24', '2017-09-14', '2017-10-05']\n"
     ]
    }
   ],
   "source": [
    "###날짜 기간 설정\n",
    "# term = input(\"day, week, month,year\")\n",
    "# if term != 'day' or 'week' or 'month' or 'year':\n",
    "#     print\n",
    "\n",
    "startDate = data[0][0]\n",
    "endDate = data[-1][0] \n",
    "tempDt =pd.to_datetime(startDate,dayfirst=True)\n",
    "tempDt = dt.datetime.date(tempDt)\n",
    "endDt = pd.to_datetime(endDate,dayfirst=True)\n",
    "dtList = []\n",
    "while True:\n",
    "    tempStr = str(tempDt)\n",
    "    dtList.append(tempStr)\n",
    "    tempDt += dt.timedelta(weeks=3)\n",
    "    if tempDt >= endDt:\n",
    "        tempStr = str(tempDt)\n",
    "        dtList.append(tempStr)\n",
    "        break\n",
    "        \n",
    "print(dtList)\n"
   ]
  }
 ],
 "metadata": {
  "kernelspec": {
   "display_name": "Python 3",
   "language": "python",
   "name": "python3"
  },
  "language_info": {
   "codemirror_mode": {
    "name": "ipython",
    "version": 3
   },
   "file_extension": ".py",
   "mimetype": "text/x-python",
   "name": "python",
   "nbconvert_exporter": "python",
   "pygments_lexer": "ipython3",
   "version": "3.7.5"
  }
 },
 "nbformat": 4,
 "nbformat_minor": 2
}

{
 "cells": [
  {
   "cell_type": "code",
   "execution_count": 2,
   "metadata": {},
   "outputs": [
    {
     "ename": "NameError",
     "evalue": "name 'data_temp' is not defined",
     "output_type": "error",
     "traceback": [
      "\u001b[1;31m---------------------------------------------------------------------------\u001b[0m",
      "\u001b[1;31mNameError\u001b[0m                                 Traceback (most recent call last)",
      "\u001b[1;32m<ipython-input-2-522d61f3aafc>\u001b[0m in \u001b[0;36m<module>\u001b[1;34m\u001b[0m\n\u001b[0;32m      8\u001b[0m \u001b[0mresult\u001b[0m \u001b[1;33m=\u001b[0m \u001b[1;33m[\u001b[0m\u001b[1;33m]\u001b[0m\u001b[1;33m\u001b[0m\u001b[1;33m\u001b[0m\u001b[0m\n\u001b[0;32m      9\u001b[0m \u001b[1;33m\u001b[0m\u001b[0m\n\u001b[1;32m---> 10\u001b[1;33m \u001b[1;32mfor\u001b[0m \u001b[0mi\u001b[0m \u001b[1;32min\u001b[0m \u001b[0mdata_temp\u001b[0m\u001b[1;33m:\u001b[0m\u001b[1;33m\u001b[0m\u001b[1;33m\u001b[0m\u001b[0m\n\u001b[0m\u001b[0;32m     11\u001b[0m     \u001b[0mtemp\u001b[0m \u001b[1;33m=\u001b[0m \u001b[1;33m{\u001b[0m\u001b[1;33m}\u001b[0m\u001b[1;33m\u001b[0m\u001b[1;33m\u001b[0m\u001b[0m\n\u001b[0;32m     12\u001b[0m     \u001b[0mentity\u001b[0m\u001b[1;33m=\u001b[0m \u001b[0mre\u001b[0m\u001b[1;33m.\u001b[0m\u001b[0msub\u001b[0m\u001b[1;33m(\u001b[0m\u001b[0mentity_pattern\u001b[0m\u001b[1;33m,\u001b[0m\u001b[1;34m'\\\\1'\u001b[0m\u001b[1;33m,\u001b[0m\u001b[0mentity_pattern\u001b[0m\u001b[1;33m.\u001b[0m\u001b[0msearch\u001b[0m\u001b[1;33m(\u001b[0m\u001b[0mi\u001b[0m\u001b[1;33m)\u001b[0m\u001b[1;33m.\u001b[0m\u001b[0mgroup\u001b[0m\u001b[1;33m(\u001b[0m\u001b[1;33m)\u001b[0m\u001b[1;33m)\u001b[0m\u001b[1;33m\u001b[0m\u001b[1;33m\u001b[0m\u001b[0m\n",
      "\u001b[1;31mNameError\u001b[0m: name 'data_temp' is not defined"
     ]
    }
   ],
   "source": [
    "import re\n",
    "\n",
    "FSAPoldic = [\"QXSP\", \"QXPO\", \"QXNG\", \"QXSN\", \"QXJO\", \"QXEP\", \"QXLO\", \"QXWI\", \"QXSA\", \"QXDG\", \"QXAN\", \"QXFE\", \"QXEU\"]\n",
    "FSAPolpos = ['QXPO', 'QXSP', 'QXJO', 'QXEP', 'QXLO', 'QXWI']\n",
    "\n",
    "entity_pattern = re.compile(r'([가-힣ㄱ-ㅎ]+)[\\/A-Z]*\\/(XX[A-Z]+)')\n",
    "feature_pattern = re.compile(r'([가-힣ㄱ-ㅎ]+)[\\/A-Z]*\\/(XQFT)')\n",
    "result = []\n",
    "\n",
    "for i in data_temp:\n",
    "    temp = {}\n",
    "    entity= re.sub(entity_pattern,'\\\\1',entity_pattern.search(i).group())\n",
    "    temp[\"Entity\"] = entity\n",
    "    if feature_pattern.search(i) == None:\n",
    "        feature = 'GEN'\n",
    "    else:\n",
    "        feature = re.sub(feature_pattern,'\\\\1', feature_pattern.search(i).group())\n",
    "    temp['Feature'] = feature\n",
    "    temp['Total'] = 0\n",
    "    for pol in FSAPoldic:\n",
    "        if pol in i:\n",
    "            if pol in FSAPolpos:\n",
    "                temp[pol] = i.count(pol)\n",
    "                temp['Total'] += i.count(pol)\n",
    "                result.append (temp)\n",
    "            else:\n",
    "                temp[pol] = -1 * i.count (pol)\n",
    "                temp['Total'] += i.count (pol)\n",
    "                result.append (temp)\n",
    "        else:\n",
    "            pass"
   ]
  },
  {
   "cell_type": "code",
   "execution_count": null,
   "metadata": {},
   "outputs": [],
   "source": [
    "# LGGbasedFSA에서 sum-up 코드 부터 후반부 막대그래프를 그리기 까지에 대한 내용\n",
    "\n",
    "temp_df = pd.DataFrame(result)\n",
    "temp_df = temp_df.fillna(0)\n",
    "temp_df = temp_df.groupby(['Entity', 'Feature'], as_index=False).sum()\n",
    "result_df = temp_df.sort_values(by=['Total'],ascending=False)\n",
    "\n",
    "#단일 어휘 추출(topicWord), 토탈 카운트의 상위 Entity 추출(numArray)\n",
    "topicWord = False\n",
    "numArray = True\n",
    "\n",
    "if topicWord == True:\n",
    "    try:\n",
    "        keyword = '바지'\n",
    "        forPrint_df= result_df[result_df['Entity'].isin([keyword])]\n",
    "        # iloc 첫번째는 인덱스는 feture array\n",
    "        forPrint_df2 = forPrint_df.iloc[:,1:]\n",
    "        forPrint_df2.set_index(forPrint_df2['Feature'],inplace=True)\n",
    "        mpl.rcParams['axes.unicode_minus'] = False\n",
    "        font_path = 'malgun.ttf'\n",
    "        font_name = fm.FontProperties (fname=font_path, size=18).get_name ()\n",
    "        mpl.rc ('font', family=font_name)\n",
    "        del forPrint_df2['Total']\n",
    "        #print (list(forPrint_df2.iloc[1].index[:])[1:])\n",
    "        forPrint_df2.plot.bar(stacked=True, edgecolor='white')\n",
    "        plt.title (keyword)\n",
    "        plt.xlabel ('Feature')\n",
    "        plt.ylabel (\"Polarity\")\n",
    "        mplcursors.cursor(hover=True).connect('add')\n",
    "    except TypeError:\n",
    "        print('데이터가 없습니다.')"
   ]
  }
 ],
 "metadata": {
  "kernelspec": {
   "display_name": "Python 3",
   "language": "python",
   "name": "python3"
  },
  "language_info": {
   "codemirror_mode": {
    "name": "ipython",
    "version": 3
   },
   "file_extension": ".py",
   "mimetype": "text/x-python",
   "name": "python",
   "nbconvert_exporter": "python",
   "pygments_lexer": "ipython3",
   "version": "3.7.4"
  }
 },
 "nbformat": 4,
 "nbformat_minor": 2
}
